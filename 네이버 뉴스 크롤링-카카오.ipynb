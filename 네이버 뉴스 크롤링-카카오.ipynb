{
 "cells": [
  {
   "cell_type": "code",
   "execution_count": 1,
   "metadata": {},
   "outputs": [],
   "source": [
    "import pandas as pd\n",
    "import numpy as np\n",
    "\n",
    "from selenium import webdriver  # 라이브러리(모듈) 가져오라\n",
    "from selenium.webdriver import ActionChains as AC #웹브라우저 동작\n",
    "from tqdm import tqdm\n",
    "from tqdm.notebook import tqdm\n",
    "import re\n",
    "from time import sleep\n",
    "import time"
   ]
  },
  {
   "cell_type": "code",
   "execution_count": 4,
   "metadata": {},
   "outputs": [
    {
     "data": {
      "text/plain": [
       "'카카오'"
      ]
     },
     "execution_count": 4,
     "metadata": {},
     "output_type": "execute_result"
    }
   ],
   "source": [
    "keyword = \"카카오\"\n",
    "keyword"
   ]
  },
  {
   "cell_type": "code",
   "execution_count": 5,
   "metadata": {},
   "outputs": [],
   "source": [
    "driver = webdriver.Chrome(\"chromedriver.exe\")  # 맥 : /Users/aiden/Desktop/chromedriver\n",
    "driver.get(\"https://search.naver.com/search.naver?where=news&sm=tab_jum&query={}\".format(keyword))\n",
    "time.sleep(3)"
   ]
  },
  {
   "cell_type": "code",
   "execution_count": 6,
   "metadata": {},
   "outputs": [],
   "source": [
    "things = driver.find_elements_by_link_text('네이버뉴스')  \n",
    "\n",
    "url_list = []\n",
    "for thing in things:\n",
    "    url = thing.get_attribute('href')\n",
    "    url_list.append(url)"
   ]
  },
  {
   "cell_type": "code",
   "execution_count": 7,
   "metadata": {},
   "outputs": [
    {
     "name": "stdout",
     "output_type": "stream",
     "text": [
      "25\n"
     ]
    },
    {
     "data": {
      "text/plain": [
       "['https://news.naver.com/main/read.nhn?mode=LSD&mid=sec&sid1=105&oid=018&aid=0004916847',\n",
       " 'https://news.naver.com/main/read.nhn?mode=LSD&mid=sec&sid1=101&oid=003&aid=0010475187',\n",
       " 'https://news.naver.com/main/read.nhn?mode=LSD&mid=sec&sid1=101&oid=001&aid=0012364261',\n",
       " 'https://news.naver.com/main/read.nhn?mode=LSD&mid=sec&sid1=101&oid=421&aid=0005322935',\n",
       " 'https://news.naver.com/main/read.nhn?mode=LSD&mid=sec&sid1=101&oid=018&aid=0004916597',\n",
       " 'https://news.naver.com/main/read.nhn?mode=LSD&mid=sec&sid1=105&oid=031&aid=0000596181',\n",
       " 'https://news.naver.com/main/read.nhn?mode=LSD&mid=sec&sid1=105&oid=119&aid=0002489189',\n",
       " 'https://news.naver.com/main/read.nhn?mode=LSD&mid=sec&sid1=106&oid=076&aid=0003723386',\n",
       " 'https://news.naver.com/main/read.nhn?mode=LSD&mid=sec&sid1=101&oid=008&aid=0004580284',\n",
       " 'https://news.naver.com/main/read.nhn?mode=LSD&mid=sec&sid1=101&oid=030&aid=0002942070',\n",
       " 'https://news.naver.com/main/read.nhn?mode=LSD&mid=sec&sid1=105&oid=011&aid=0003904054',\n",
       " 'https://news.naver.com/main/read.nhn?mode=LSD&mid=sec&sid1=101&oid=243&aid=0000012573',\n",
       " 'https://sports.news.naver.com/news.nhn?oid=014&aid=0004630057',\n",
       " 'https://news.naver.com/main/read.nhn?mode=LSD&mid=sec&sid1=105&oid=468&aid=0000764792',\n",
       " 'https://news.naver.com/main/read.nhn?mode=LSD&mid=sec&sid1=101&oid=003&aid=0010474631',\n",
       " 'https://news.naver.com/main/read.nhn?mode=LSD&mid=sec&sid1=105&oid=011&aid=0003904059',\n",
       " 'https://sports.news.naver.com/news.nhn?oid=030&aid=0002941994',\n",
       " 'https://news.naver.com/main/read.nhn?mode=LSD&mid=sec&sid1=105&oid=029&aid=0002670620',\n",
       " 'https://news.naver.com/main/read.nhn?mode=LSD&mid=sec&sid1=105&oid=030&aid=0002941968',\n",
       " 'https://news.naver.com/main/read.nhn?mode=LSD&mid=sec&sid1=101&oid=015&aid=0004538660',\n",
       " 'https://news.naver.com/main/read.nhn?mode=LSD&mid=sec&sid1=105&oid=001&aid=0012359673',\n",
       " 'https://news.naver.com/main/read.nhn?mode=LSD&mid=sec&sid1=105&oid=277&aid=0004893632',\n",
       " 'https://news.naver.com/main/read.nhn?mode=LSD&mid=sec&sid1=105&oid=014&aid=0004629005',\n",
       " 'https://news.naver.com/main/read.nhn?mode=LSD&mid=sec&sid1=105&oid=011&aid=0003903404',\n",
       " 'https://news.naver.com/main/read.nhn?mode=LSD&mid=sec&sid1=101&oid=003&aid=0010470738']"
      ]
     },
     "execution_count": 7,
     "metadata": {},
     "output_type": "execute_result"
    }
   ],
   "source": [
    "print(len(url_list))\n",
    "url_list"
   ]
  },
  {
   "cell_type": "code",
   "execution_count": 8,
   "metadata": {},
   "outputs": [],
   "source": [
    "df = pd.DataFrame({\"url\":url_list})\n",
    "df.to_csv('kakao_news_urls.csv')"
   ]
  },
  {
   "cell_type": "markdown",
   "metadata": {},
   "source": [
    "# 저장해둔 url 리스트 가져오기 "
   ]
  },
  {
   "cell_type": "code",
   "execution_count": 9,
   "metadata": {},
   "outputs": [
    {
     "data": {
      "text/html": [
       "<div>\n",
       "<style scoped>\n",
       "    .dataframe tbody tr th:only-of-type {\n",
       "        vertical-align: middle;\n",
       "    }\n",
       "\n",
       "    .dataframe tbody tr th {\n",
       "        vertical-align: top;\n",
       "    }\n",
       "\n",
       "    .dataframe thead th {\n",
       "        text-align: right;\n",
       "    }\n",
       "</style>\n",
       "<table border=\"1\" class=\"dataframe\">\n",
       "  <thead>\n",
       "    <tr style=\"text-align: right;\">\n",
       "      <th></th>\n",
       "      <th>Unnamed: 0</th>\n",
       "      <th>url</th>\n",
       "    </tr>\n",
       "  </thead>\n",
       "  <tbody>\n",
       "    <tr>\n",
       "      <th>0</th>\n",
       "      <td>0</td>\n",
       "      <td>https://news.naver.com/main/read.nhn?mode=LSD&amp;...</td>\n",
       "    </tr>\n",
       "    <tr>\n",
       "      <th>1</th>\n",
       "      <td>1</td>\n",
       "      <td>https://news.naver.com/main/read.nhn?mode=LSD&amp;...</td>\n",
       "    </tr>\n",
       "    <tr>\n",
       "      <th>2</th>\n",
       "      <td>2</td>\n",
       "      <td>https://news.naver.com/main/read.nhn?mode=LSD&amp;...</td>\n",
       "    </tr>\n",
       "    <tr>\n",
       "      <th>3</th>\n",
       "      <td>3</td>\n",
       "      <td>https://news.naver.com/main/read.nhn?mode=LSD&amp;...</td>\n",
       "    </tr>\n",
       "    <tr>\n",
       "      <th>4</th>\n",
       "      <td>4</td>\n",
       "      <td>https://news.naver.com/main/read.nhn?mode=LSD&amp;...</td>\n",
       "    </tr>\n",
       "    <tr>\n",
       "      <th>5</th>\n",
       "      <td>5</td>\n",
       "      <td>https://news.naver.com/main/read.nhn?mode=LSD&amp;...</td>\n",
       "    </tr>\n",
       "    <tr>\n",
       "      <th>6</th>\n",
       "      <td>6</td>\n",
       "      <td>https://news.naver.com/main/read.nhn?mode=LSD&amp;...</td>\n",
       "    </tr>\n",
       "    <tr>\n",
       "      <th>7</th>\n",
       "      <td>7</td>\n",
       "      <td>https://news.naver.com/main/read.nhn?mode=LSD&amp;...</td>\n",
       "    </tr>\n",
       "    <tr>\n",
       "      <th>8</th>\n",
       "      <td>8</td>\n",
       "      <td>https://news.naver.com/main/read.nhn?mode=LSD&amp;...</td>\n",
       "    </tr>\n",
       "    <tr>\n",
       "      <th>9</th>\n",
       "      <td>9</td>\n",
       "      <td>https://news.naver.com/main/read.nhn?mode=LSD&amp;...</td>\n",
       "    </tr>\n",
       "    <tr>\n",
       "      <th>10</th>\n",
       "      <td>10</td>\n",
       "      <td>https://news.naver.com/main/read.nhn?mode=LSD&amp;...</td>\n",
       "    </tr>\n",
       "    <tr>\n",
       "      <th>11</th>\n",
       "      <td>11</td>\n",
       "      <td>https://news.naver.com/main/read.nhn?mode=LSD&amp;...</td>\n",
       "    </tr>\n",
       "    <tr>\n",
       "      <th>12</th>\n",
       "      <td>12</td>\n",
       "      <td>https://sports.news.naver.com/news.nhn?oid=014...</td>\n",
       "    </tr>\n",
       "    <tr>\n",
       "      <th>13</th>\n",
       "      <td>13</td>\n",
       "      <td>https://news.naver.com/main/read.nhn?mode=LSD&amp;...</td>\n",
       "    </tr>\n",
       "    <tr>\n",
       "      <th>14</th>\n",
       "      <td>14</td>\n",
       "      <td>https://news.naver.com/main/read.nhn?mode=LSD&amp;...</td>\n",
       "    </tr>\n",
       "    <tr>\n",
       "      <th>15</th>\n",
       "      <td>15</td>\n",
       "      <td>https://news.naver.com/main/read.nhn?mode=LSD&amp;...</td>\n",
       "    </tr>\n",
       "    <tr>\n",
       "      <th>16</th>\n",
       "      <td>16</td>\n",
       "      <td>https://sports.news.naver.com/news.nhn?oid=030...</td>\n",
       "    </tr>\n",
       "    <tr>\n",
       "      <th>17</th>\n",
       "      <td>17</td>\n",
       "      <td>https://news.naver.com/main/read.nhn?mode=LSD&amp;...</td>\n",
       "    </tr>\n",
       "    <tr>\n",
       "      <th>18</th>\n",
       "      <td>18</td>\n",
       "      <td>https://news.naver.com/main/read.nhn?mode=LSD&amp;...</td>\n",
       "    </tr>\n",
       "    <tr>\n",
       "      <th>19</th>\n",
       "      <td>19</td>\n",
       "      <td>https://news.naver.com/main/read.nhn?mode=LSD&amp;...</td>\n",
       "    </tr>\n",
       "    <tr>\n",
       "      <th>20</th>\n",
       "      <td>20</td>\n",
       "      <td>https://news.naver.com/main/read.nhn?mode=LSD&amp;...</td>\n",
       "    </tr>\n",
       "    <tr>\n",
       "      <th>21</th>\n",
       "      <td>21</td>\n",
       "      <td>https://news.naver.com/main/read.nhn?mode=LSD&amp;...</td>\n",
       "    </tr>\n",
       "    <tr>\n",
       "      <th>22</th>\n",
       "      <td>22</td>\n",
       "      <td>https://news.naver.com/main/read.nhn?mode=LSD&amp;...</td>\n",
       "    </tr>\n",
       "    <tr>\n",
       "      <th>23</th>\n",
       "      <td>23</td>\n",
       "      <td>https://news.naver.com/main/read.nhn?mode=LSD&amp;...</td>\n",
       "    </tr>\n",
       "    <tr>\n",
       "      <th>24</th>\n",
       "      <td>24</td>\n",
       "      <td>https://news.naver.com/main/read.nhn?mode=LSD&amp;...</td>\n",
       "    </tr>\n",
       "  </tbody>\n",
       "</table>\n",
       "</div>"
      ],
      "text/plain": [
       "    Unnamed: 0                                                url\n",
       "0            0  https://news.naver.com/main/read.nhn?mode=LSD&...\n",
       "1            1  https://news.naver.com/main/read.nhn?mode=LSD&...\n",
       "2            2  https://news.naver.com/main/read.nhn?mode=LSD&...\n",
       "3            3  https://news.naver.com/main/read.nhn?mode=LSD&...\n",
       "4            4  https://news.naver.com/main/read.nhn?mode=LSD&...\n",
       "5            5  https://news.naver.com/main/read.nhn?mode=LSD&...\n",
       "6            6  https://news.naver.com/main/read.nhn?mode=LSD&...\n",
       "7            7  https://news.naver.com/main/read.nhn?mode=LSD&...\n",
       "8            8  https://news.naver.com/main/read.nhn?mode=LSD&...\n",
       "9            9  https://news.naver.com/main/read.nhn?mode=LSD&...\n",
       "10          10  https://news.naver.com/main/read.nhn?mode=LSD&...\n",
       "11          11  https://news.naver.com/main/read.nhn?mode=LSD&...\n",
       "12          12  https://sports.news.naver.com/news.nhn?oid=014...\n",
       "13          13  https://news.naver.com/main/read.nhn?mode=LSD&...\n",
       "14          14  https://news.naver.com/main/read.nhn?mode=LSD&...\n",
       "15          15  https://news.naver.com/main/read.nhn?mode=LSD&...\n",
       "16          16  https://sports.news.naver.com/news.nhn?oid=030...\n",
       "17          17  https://news.naver.com/main/read.nhn?mode=LSD&...\n",
       "18          18  https://news.naver.com/main/read.nhn?mode=LSD&...\n",
       "19          19  https://news.naver.com/main/read.nhn?mode=LSD&...\n",
       "20          20  https://news.naver.com/main/read.nhn?mode=LSD&...\n",
       "21          21  https://news.naver.com/main/read.nhn?mode=LSD&...\n",
       "22          22  https://news.naver.com/main/read.nhn?mode=LSD&...\n",
       "23          23  https://news.naver.com/main/read.nhn?mode=LSD&...\n",
       "24          24  https://news.naver.com/main/read.nhn?mode=LSD&..."
      ]
     },
     "execution_count": 9,
     "metadata": {},
     "output_type": "execute_result"
    }
   ],
   "source": [
    "df = pd.read_csv('kakao_news_urls.csv')\n",
    "df"
   ]
  },
  {
   "cell_type": "code",
   "execution_count": 10,
   "metadata": {},
   "outputs": [],
   "source": [
    "driver = webdriver.Chrome(\"chromedriver.exe\")\n",
    "driver.get(df['url'][0])"
   ]
  },
  {
   "cell_type": "code",
   "execution_count": 11,
   "metadata": {},
   "outputs": [
    {
     "name": "stdout",
     "output_type": "stream",
     "text": [
      "카카오내비, 세차·충전 이어 ‘방문 정비’ 서비스 개시\n",
      "2021.04.30. 오전 10:22\n",
      "\n"
     ]
    }
   ],
   "source": [
    "# 기사 제목\n",
    "title = driver.find_element_by_css_selector('.tts_head')\n",
    "title = title.text\n",
    "print(title)\n",
    "\n",
    "# 기사 날짜\n",
    "date = driver.find_element_by_css_selector('.t11')\n",
    "date = date.text\n",
    "print(date)\n",
    "\n",
    "# 기사 추천수 날짜\n",
    "up = driver.find_element_by_css_selector('.u_cnt._count')\n",
    "up = up.text\n",
    "print(up)\n"
   ]
  },
  {
   "cell_type": "code",
   "execution_count": 12,
   "metadata": {
    "scrolled": true
   },
   "outputs": [
    {
     "name": "stdout",
     "output_type": "stream",
     "text": [
      "1\n",
      "0\n",
      "0\n",
      "0\n",
      "0\n"
     ]
    }
   ],
   "source": [
    "# 좋아요\n",
    "like = driver.find_element_by_css_selector(\".end_btn .u_likeit_list.good .u_likeit_list_count._count\")\n",
    "like = like.text\n",
    "print(like)\n",
    "\n",
    "# 훈훈해요\n",
    "warm = driver.find_element_by_css_selector(\".end_btn .u_likeit_list.warm .u_likeit_list_count._count\")\n",
    "warm = warm.text\n",
    "print(warm)\n",
    "\n",
    "# 슬퍼요\n",
    "sad = driver.find_element_by_css_selector(\".end_btn .u_likeit_list.sad .u_likeit_list_count._count\")\n",
    "sad = sad.text\n",
    "print(sad)\n",
    "\n",
    "# 화나요\n",
    "angry = driver.find_element_by_css_selector(\".end_btn .u_likeit_list.angry .u_likeit_list_count._count\")\n",
    "angry = angry.text\n",
    "print(angry)\n",
    "\n",
    "# 후속기사 원해요\n",
    "want = driver.find_element_by_css_selector(\".end_btn .u_likeit_list.want .u_likeit_list_count._count\")\n",
    "want = want.text\n",
    "print(want)"
   ]
  },
  {
   "cell_type": "code",
   "execution_count": 13,
   "metadata": {},
   "outputs": [
    {
     "data": {
      "text/plain": [
       "0"
      ]
     },
     "execution_count": 13,
     "metadata": {},
     "output_type": "execute_result"
    }
   ],
   "source": [
    "# 기사 댓글 갯수 \n",
    "review_count = driver.find_element_by_css_selector(\".u_cbox_count\").text\n",
    "review_count = int(review_count.replace(',', ''))\n",
    "review_count"
   ]
  },
  {
   "cell_type": "code",
   "execution_count": 14,
   "metadata": {},
   "outputs": [
    {
     "data": {
      "text/plain": [
       "0"
      ]
     },
     "execution_count": 14,
     "metadata": {},
     "output_type": "execute_result"
    }
   ],
   "source": [
    "# 더보기 클릭 횟수\n",
    "moreview_num = review_count//20\n",
    "moreview_num"
   ]
  },
  {
   "cell_type": "code",
   "execution_count": 15,
   "metadata": {},
   "outputs": [],
   "source": [
    "# 댓글 버튼 클릭\n",
    "driver.find_element_by_css_selector(\".lo_txt\").click()\n",
    "time.sleep(1)"
   ]
  },
  {
   "cell_type": "code",
   "execution_count": 16,
   "metadata": {},
   "outputs": [],
   "source": [
    "k=0\n",
    "while k <= moreview_num:  # 더보기 횟수만큼 반복 \n",
    "    try:\n",
    "        driver.find_element_by_css_selector(\".u_cbox_page_more\").click()  # 더보기 버튼 클릭\n",
    "        time.sleep(1)\n",
    "        k = k+1\n",
    "    except:        \n",
    "        break  "
   ]
  },
  {
   "cell_type": "code",
   "execution_count": 17,
   "metadata": {},
   "outputs": [
    {
     "data": {
      "application/vnd.jupyter.widget-view+json": {
       "model_id": "aef384bd2ded44c88b94316bd4b87875",
       "version_major": 2,
       "version_minor": 0
      },
      "text/plain": [
       "HBox(children=(HTML(value=''), FloatProgress(value=1.0, bar_style='info', layout=Layout(width='20px'), max=1.0…"
      ]
     },
     "metadata": {},
     "output_type": "display_data"
    },
    {
     "name": "stdout",
     "output_type": "stream",
     "text": [
      "\n",
      "0\n"
     ]
    },
    {
     "data": {
      "text/plain": [
       "[]"
      ]
     },
     "execution_count": 17,
     "metadata": {},
     "output_type": "execute_result"
    }
   ],
   "source": [
    "# review 수집하기\n",
    "review_list = []\n",
    "\n",
    "overlays1 = \".u_cbox_text_wrap\"\n",
    "reviews = driver.find_elements_by_css_selector(overlays1)\n",
    "\n",
    "for review in tqdm(reviews):    \n",
    "    review = review.text\n",
    "    review_list.append(review)\n",
    "\n",
    "print(len(review_list))\n",
    "review_list"
   ]
  },
  {
   "cell_type": "code",
   "execution_count": 18,
   "metadata": {},
   "outputs": [
    {
     "data": {
      "text/plain": [
       "{'기사명': '카카오내비, 세차·충전 이어 ‘방문 정비’ 서비스 개시',\n",
       " '날짜': '2021.04.30. 오전 10:22',\n",
       " '추천수': '',\n",
       " '댓글': [],\n",
       " '좋아요': '1',\n",
       " '훈훈해요': '0',\n",
       " '슬퍼요': '0',\n",
       " '화나요': '0',\n",
       " '후속기사 원해요': '0'}"
      ]
     },
     "execution_count": 18,
     "metadata": {},
     "output_type": "execute_result"
    }
   ],
   "source": [
    "target_info = {}\n",
    "\n",
    "target_info['기사명'] = title\n",
    "target_info['날짜'] = date\n",
    "target_info['추천수'] = up\n",
    "target_info['댓글'] = review_list\n",
    "target_info['좋아요'] = like\n",
    "target_info['훈훈해요'] = warm\n",
    "target_info['슬퍼요'] = sad\n",
    "target_info['화나요'] = angry\n",
    "target_info['후속기사 원해요'] = want\n",
    "            \n",
    "target_info"
   ]
  },
  {
   "cell_type": "code",
   "execution_count": 19,
   "metadata": {},
   "outputs": [
    {
     "data": {
      "text/plain": [
       "25"
      ]
     },
     "execution_count": 19,
     "metadata": {},
     "output_type": "execute_result"
    }
   ],
   "source": [
    "len(df['url'])"
   ]
  },
  {
   "cell_type": "code",
   "execution_count": 20,
   "metadata": {},
   "outputs": [
    {
     "data": {
      "application/vnd.jupyter.widget-view+json": {
       "model_id": "3ba06a46c777470f9a074058b594cccc",
       "version_major": 2,
       "version_minor": 0
      },
      "text/plain": [
       "HBox(children=(HTML(value=''), FloatProgress(value=0.0, max=10.0), HTML(value='')))"
      ]
     },
     "metadata": {},
     "output_type": "display_data"
    },
    {
     "data": {
      "application/vnd.jupyter.widget-view+json": {
       "model_id": "fe4c9e299cea4d6a89a1b25e7896bddb",
       "version_major": 2,
       "version_minor": 0
      },
      "text/plain": [
       "HBox(children=(HTML(value=''), FloatProgress(value=1.0, bar_style='info', layout=Layout(width='20px'), max=1.0…"
      ]
     },
     "metadata": {},
     "output_type": "display_data"
    },
    {
     "name": "stdout",
     "output_type": "stream",
     "text": [
      "\n",
      "카카오내비, 세차·충전 이어 ‘방문 정비’ 서비스 개시 ( 댓글 수: 0 )\n"
     ]
    },
    {
     "data": {
      "application/vnd.jupyter.widget-view+json": {
       "model_id": "2414f4d95e5d45bab8d0601cb26efed4",
       "version_major": 2,
       "version_minor": 0
      },
      "text/plain": [
       "HBox(children=(HTML(value=''), FloatProgress(value=1.0, bar_style='info', layout=Layout(width='20px'), max=1.0…"
      ]
     },
     "metadata": {},
     "output_type": "display_data"
    },
    {
     "name": "stdout",
     "output_type": "stream",
     "text": [
      "\n",
      "카카오뱅크 26주적금, 열흘 만에 20만좌 돌파 ( 댓글 수: 0 )\n"
     ]
    },
    {
     "data": {
      "application/vnd.jupyter.widget-view+json": {
       "model_id": "978820279e23403fb7046aa379ed4a98",
       "version_major": 2,
       "version_minor": 0
      },
      "text/plain": [
       "HBox(children=(HTML(value=''), FloatProgress(value=1.0, bar_style='info', layout=Layout(width='20px'), max=1.0…"
      ]
     },
     "metadata": {},
     "output_type": "display_data"
    },
    {
     "name": "stdout",
     "output_type": "stream",
     "text": [
      "\n",
      "[게시판] 카카오뱅크 '26주적금' 개편 10일 만에 20만좌 돌파 ( 댓글 수: 0 )\n"
     ]
    },
    {
     "data": {
      "application/vnd.jupyter.widget-view+json": {
       "model_id": "e10b883529ed4b7f81a693fb1c9f630d",
       "version_major": 2,
       "version_minor": 0
      },
      "text/plain": [
       "HBox(children=(HTML(value=''), FloatProgress(value=1.0, bar_style='info', layout=Layout(width='20px'), max=1.0…"
      ]
     },
     "metadata": {},
     "output_type": "display_data"
    },
    {
     "name": "stdout",
     "output_type": "stream",
     "text": [
      "\n",
      "카카오뱅크 26주 적금, 출시 10일 만에 20만좌 돌파 ( 댓글 수: 0 )\n"
     ]
    },
    {
     "data": {
      "application/vnd.jupyter.widget-view+json": {
       "model_id": "76657c0ea71745fda62e160a14190607",
       "version_major": 2,
       "version_minor": 0
      },
      "text/plain": [
       "HBox(children=(HTML(value=''), FloatProgress(value=1.0, bar_style='info', layout=Layout(width='20px'), max=1.0…"
      ]
     },
     "metadata": {},
     "output_type": "display_data"
    },
    {
     "name": "stdout",
     "output_type": "stream",
     "text": [
      "\n",
      "카카오뱅크 '26주 적금', 10일만에 20만좌 돌파 ( 댓글 수: 0 )\n"
     ]
    },
    {
     "data": {
      "application/vnd.jupyter.widget-view+json": {
       "model_id": "9d2a8c0f96084cd0ba1ce51708044c1c",
       "version_major": 2,
       "version_minor": 0
      },
      "text/plain": [
       "HBox(children=(HTML(value=''), FloatProgress(value=1.0, bar_style='info', layout=Layout(width='20px'), max=1.0…"
      ]
     },
     "metadata": {},
     "output_type": "display_data"
    },
    {
     "name": "stdout",
     "output_type": "stream",
     "text": [
      "\n",
      "카카오내비, '방문정비' 서비스 오픈 ( 댓글 수: 0 )\n"
     ]
    },
    {
     "data": {
      "application/vnd.jupyter.widget-view+json": {
       "model_id": "65a21426167a44a09b47f401021e3b66",
       "version_major": 2,
       "version_minor": 0
      },
      "text/plain": [
       "HBox(children=(HTML(value=''), FloatProgress(value=1.0, bar_style='info', layout=Layout(width='20px'), max=1.0…"
      ]
     },
     "metadata": {},
     "output_type": "display_data"
    },
    {
     "name": "stdout",
     "output_type": "stream",
     "text": [
      "\n",
      "카카오내비, ‘방문정비’ 서비스 오픈…차량관리 본격 운영 ( 댓글 수: 0 )\n"
     ]
    },
    {
     "data": {
      "application/vnd.jupyter.widget-view+json": {
       "model_id": "2fafb639472243ed86cfa05dd3d379a2",
       "version_major": 2,
       "version_minor": 0
      },
      "text/plain": [
       "HBox(children=(HTML(value=''), FloatProgress(value=1.0, bar_style='info', layout=Layout(width='20px'), max=1.0…"
      ]
     },
     "metadata": {},
     "output_type": "display_data"
    },
    {
     "name": "stdout",
     "output_type": "stream",
     "text": [
      "\n",
      "티머니GO 이어 카카오T에서도 '씽씽' 대여…연내 연동 완료 ( 댓글 수: 0 )\n"
     ]
    },
    {
     "data": {
      "application/vnd.jupyter.widget-view+json": {
       "model_id": "2d8c7332bfd34d7cb7322d30f959590e",
       "version_major": 2,
       "version_minor": 0
      },
      "text/plain": [
       "HBox(children=(HTML(value=''), FloatProgress(value=1.0, bar_style='info', layout=Layout(width='20px'), max=1.0…"
      ]
     },
     "metadata": {},
     "output_type": "display_data"
    },
    {
     "name": "stdout",
     "output_type": "stream",
     "text": [
      "\n",
      "씽씽, 연내 카카오 T 통해 공유킥보드 대여 서비스 출시 ( 댓글 수: 0 )\n",
      "\n",
      "9\n"
     ]
    },
    {
     "data": {
      "text/plain": [
       "{0: {'기사명': '카카오내비, 세차·충전 이어 ‘방문 정비’ 서비스 개시',\n",
       "  '날짜': '2021.04.30. 오전 10:22',\n",
       "  '추천수': '',\n",
       "  '좋아요': '1',\n",
       "  '훈훈해요': '0',\n",
       "  '슬퍼요': '0',\n",
       "  '화나요': '0',\n",
       "  '후속기사 원해요': '0',\n",
       "  '댓글 수': 0,\n",
       "  '댓글': []},\n",
       " 1: {'기사명': '카카오뱅크 26주적금, 열흘 만에 20만좌 돌파',\n",
       "  '날짜': '2021.04.30. 오전 8:47',\n",
       "  '추천수': '',\n",
       "  '좋아요': '0',\n",
       "  '훈훈해요': '0',\n",
       "  '슬퍼요': '0',\n",
       "  '화나요': '0',\n",
       "  '후속기사 원해요': '0',\n",
       "  '댓글 수': 0,\n",
       "  '댓글': []},\n",
       " 2: {'기사명': \"[게시판] 카카오뱅크 '26주적금' 개편 10일 만에 20만좌 돌파\",\n",
       "  '날짜': '2021.04.30. 오전 9:09',\n",
       "  '추천수': '',\n",
       "  '좋아요': '0',\n",
       "  '훈훈해요': '0',\n",
       "  '슬퍼요': '0',\n",
       "  '화나요': '0',\n",
       "  '후속기사 원해요': '0',\n",
       "  '댓글 수': 0,\n",
       "  '댓글': []},\n",
       " 3: {'기사명': '카카오뱅크 26주 적금, 출시 10일 만에 20만좌 돌파',\n",
       "  '날짜': '2021.04.30. 오전 9:10',\n",
       "  '추천수': '',\n",
       "  '좋아요': '0',\n",
       "  '훈훈해요': '0',\n",
       "  '슬퍼요': '0',\n",
       "  '화나요': '0',\n",
       "  '후속기사 원해요': '0',\n",
       "  '댓글 수': 0,\n",
       "  '댓글': []},\n",
       " 4: {'기사명': \"카카오뱅크 '26주 적금', 10일만에 20만좌 돌파\",\n",
       "  '날짜': '2021.04.30. 오전 8:12',\n",
       "  '추천수': '',\n",
       "  '좋아요': '1',\n",
       "  '훈훈해요': '0',\n",
       "  '슬퍼요': '0',\n",
       "  '화나요': '0',\n",
       "  '후속기사 원해요': '0',\n",
       "  '댓글 수': 0,\n",
       "  '댓글': []},\n",
       " 5: {'기사명': \"카카오내비, '방문정비' 서비스 오픈\",\n",
       "  '날짜': '2021.04.30. 오전 10:10',\n",
       "  '추천수': '',\n",
       "  '좋아요': '0',\n",
       "  '훈훈해요': '0',\n",
       "  '슬퍼요': '0',\n",
       "  '화나요': '0',\n",
       "  '후속기사 원해요': '0',\n",
       "  '댓글 수': 0,\n",
       "  '댓글': []},\n",
       " 6: {'기사명': '카카오내비, ‘방문정비’ 서비스 오픈…차량관리 본격 운영',\n",
       "  '날짜': '2021.04.30. 오전 9:53',\n",
       "  '추천수': '1',\n",
       "  '좋아요': '1',\n",
       "  '훈훈해요': '0',\n",
       "  '슬퍼요': '0',\n",
       "  '화나요': '0',\n",
       "  '후속기사 원해요': '0',\n",
       "  '댓글 수': 0,\n",
       "  '댓글': []},\n",
       " 8: {'기사명': \"티머니GO 이어 카카오T에서도 '씽씽' 대여…연내 연동 완료\",\n",
       "  '날짜': '2021.04.29. 오후 2:07',\n",
       "  '추천수': '',\n",
       "  '좋아요': '1',\n",
       "  '훈훈해요': '1',\n",
       "  '슬퍼요': '1',\n",
       "  '화나요': '1',\n",
       "  '후속기사 원해요': '0',\n",
       "  '댓글 수': 0,\n",
       "  '댓글': []},\n",
       " 9: {'기사명': '씽씽, 연내 카카오 T 통해 공유킥보드 대여 서비스 출시',\n",
       "  '날짜': '2021.04.29. 오후 1:15',\n",
       "  '추천수': '',\n",
       "  '좋아요': '3',\n",
       "  '훈훈해요': '1',\n",
       "  '슬퍼요': '0',\n",
       "  '화나요': '1',\n",
       "  '후속기사 원해요': '0',\n",
       "  '댓글 수': 0,\n",
       "  '댓글': []}}"
      ]
     },
     "execution_count": 20,
     "metadata": {},
     "output_type": "execute_result"
    }
   ],
   "source": [
    "dict = {}\n",
    "\n",
    "# 페이지당 기사 수집\n",
    "for i in tqdm(range(0, 10)):   # len(df['url'])\n",
    "    try:\n",
    "        # 뉴스 크롬창 띄우기\n",
    "        driver = webdriver.Chrome(\"chromedriver.exe\")  # 맥 : /Users/aiden/Desktop/chromedriver\n",
    "        driver.get(df['url'][i])\n",
    "        time.sleep(1)\n",
    "\n",
    "        # 기사 데이터 수집\n",
    "        title = driver.find_element_by_css_selector('.tts_head').text\n",
    "        date = driver.find_element_by_css_selector('.t11').text\n",
    "        up = driver.find_element_by_css_selector('.u_cnt._count').text\n",
    "        like = driver.find_element_by_css_selector(\".end_btn .u_likeit_list.good .u_likeit_list_count._count\").text\n",
    "        warm = driver.find_element_by_css_selector(\".end_btn .u_likeit_list.warm .u_likeit_list_count._count\").text\n",
    "        sad = driver.find_element_by_css_selector(\".end_btn .u_likeit_list.sad .u_likeit_list_count._count\").text\n",
    "        angry = driver.find_element_by_css_selector(\".end_btn .u_likeit_list.angry .u_likeit_list_count._count\").text\n",
    "        want = driver.find_element_by_css_selector(\".end_btn .u_likeit_list.want .u_likeit_list_count._count\").text\n",
    "\n",
    "        # 기사 댓글 갯수 \n",
    "        review_count = int(driver.find_element_by_css_selector(\".u_cbox_count\").text.replace(',', ''))\n",
    "\n",
    "        # 더보기 클릭 횟수\n",
    "        moreview_num = review_count//20\n",
    "\n",
    "        # 댓글 버튼 클릭\n",
    "        driver.find_element_by_css_selector(\".lo_txt\").click()\n",
    "        time.sleep(1)\n",
    "\n",
    "        # 더보기 버튼 여러번 클릭하기\n",
    "        k=0\n",
    "        while k <= moreview_num:  # 더보기 횟수만큼 반복 \n",
    "            try:\n",
    "                driver.find_element_by_css_selector(\".u_cbox_page_more\").click()  # 더보기 버튼 클릭\n",
    "                time.sleep(1)\n",
    "                k = k+1\n",
    "            except:        \n",
    "                break   # 에러나면 클릭 반복문을 빠져나가라\n",
    "\n",
    "        # review 수집하기\n",
    "        review_list = []\n",
    "        overlays1 = \".u_cbox_text_wrap\"\n",
    "        reviews = driver.find_elements_by_css_selector(overlays1)\n",
    "        for review in tqdm(reviews):    \n",
    "            review = review.text\n",
    "            review_list.append(review)\n",
    "\n",
    "        target_info = {}\n",
    "        target_info['기사명'] = title\n",
    "        target_info['날짜'] = date\n",
    "        target_info['추천수'] = up\n",
    "        target_info['좋아요'] = like\n",
    "        target_info['훈훈해요'] = warm\n",
    "        target_info['슬퍼요'] = sad\n",
    "        target_info['화나요'] = angry\n",
    "        target_info['후속기사 원해요'] = want\n",
    "        target_info['댓글 수'] = len(review_list)\n",
    "        target_info['댓글'] = review_list\n",
    "\n",
    "        dict[i] = target_info\n",
    "        \n",
    "        print(title, '( 댓글 수:', len(review_list),')')\n",
    "\n",
    "        driver.close()\n",
    "        time.sleep(1)\n",
    "        \n",
    "    except:\n",
    "        driver.close()\n",
    "        continue\n",
    "\n",
    "print(len(dict))\n",
    "dict"
   ]
  },
  {
   "cell_type": "code",
   "execution_count": 21,
   "metadata": {},
   "outputs": [
    {
     "data": {
      "text/html": [
       "<div>\n",
       "<style scoped>\n",
       "    .dataframe tbody tr th:only-of-type {\n",
       "        vertical-align: middle;\n",
       "    }\n",
       "\n",
       "    .dataframe tbody tr th {\n",
       "        vertical-align: top;\n",
       "    }\n",
       "\n",
       "    .dataframe thead th {\n",
       "        text-align: right;\n",
       "    }\n",
       "</style>\n",
       "<table border=\"1\" class=\"dataframe\">\n",
       "  <thead>\n",
       "    <tr style=\"text-align: right;\">\n",
       "      <th></th>\n",
       "      <th>기사명</th>\n",
       "      <th>날짜</th>\n",
       "      <th>추천수</th>\n",
       "      <th>좋아요</th>\n",
       "      <th>훈훈해요</th>\n",
       "      <th>슬퍼요</th>\n",
       "      <th>화나요</th>\n",
       "      <th>후속기사 원해요</th>\n",
       "      <th>댓글 수</th>\n",
       "      <th>댓글</th>\n",
       "    </tr>\n",
       "  </thead>\n",
       "  <tbody>\n",
       "    <tr>\n",
       "      <th>0</th>\n",
       "      <td>카카오내비, 세차·충전 이어 ‘방문 정비’ 서비스 개시</td>\n",
       "      <td>2021.04.30. 오전 10:22</td>\n",
       "      <td></td>\n",
       "      <td>1</td>\n",
       "      <td>0</td>\n",
       "      <td>0</td>\n",
       "      <td>0</td>\n",
       "      <td>0</td>\n",
       "      <td>0</td>\n",
       "      <td>[]</td>\n",
       "    </tr>\n",
       "    <tr>\n",
       "      <th>1</th>\n",
       "      <td>카카오뱅크 26주적금, 열흘 만에 20만좌 돌파</td>\n",
       "      <td>2021.04.30. 오전 8:47</td>\n",
       "      <td></td>\n",
       "      <td>0</td>\n",
       "      <td>0</td>\n",
       "      <td>0</td>\n",
       "      <td>0</td>\n",
       "      <td>0</td>\n",
       "      <td>0</td>\n",
       "      <td>[]</td>\n",
       "    </tr>\n",
       "    <tr>\n",
       "      <th>2</th>\n",
       "      <td>[게시판] 카카오뱅크 '26주적금' 개편 10일 만에 20만좌 돌파</td>\n",
       "      <td>2021.04.30. 오전 9:09</td>\n",
       "      <td></td>\n",
       "      <td>0</td>\n",
       "      <td>0</td>\n",
       "      <td>0</td>\n",
       "      <td>0</td>\n",
       "      <td>0</td>\n",
       "      <td>0</td>\n",
       "      <td>[]</td>\n",
       "    </tr>\n",
       "    <tr>\n",
       "      <th>3</th>\n",
       "      <td>카카오뱅크 26주 적금, 출시 10일 만에 20만좌 돌파</td>\n",
       "      <td>2021.04.30. 오전 9:10</td>\n",
       "      <td></td>\n",
       "      <td>0</td>\n",
       "      <td>0</td>\n",
       "      <td>0</td>\n",
       "      <td>0</td>\n",
       "      <td>0</td>\n",
       "      <td>0</td>\n",
       "      <td>[]</td>\n",
       "    </tr>\n",
       "    <tr>\n",
       "      <th>4</th>\n",
       "      <td>카카오뱅크 '26주 적금', 10일만에 20만좌 돌파</td>\n",
       "      <td>2021.04.30. 오전 8:12</td>\n",
       "      <td></td>\n",
       "      <td>1</td>\n",
       "      <td>0</td>\n",
       "      <td>0</td>\n",
       "      <td>0</td>\n",
       "      <td>0</td>\n",
       "      <td>0</td>\n",
       "      <td>[]</td>\n",
       "    </tr>\n",
       "    <tr>\n",
       "      <th>5</th>\n",
       "      <td>카카오내비, '방문정비' 서비스 오픈</td>\n",
       "      <td>2021.04.30. 오전 10:10</td>\n",
       "      <td></td>\n",
       "      <td>0</td>\n",
       "      <td>0</td>\n",
       "      <td>0</td>\n",
       "      <td>0</td>\n",
       "      <td>0</td>\n",
       "      <td>0</td>\n",
       "      <td>[]</td>\n",
       "    </tr>\n",
       "    <tr>\n",
       "      <th>6</th>\n",
       "      <td>카카오내비, ‘방문정비’ 서비스 오픈…차량관리 본격 운영</td>\n",
       "      <td>2021.04.30. 오전 9:53</td>\n",
       "      <td>1</td>\n",
       "      <td>1</td>\n",
       "      <td>0</td>\n",
       "      <td>0</td>\n",
       "      <td>0</td>\n",
       "      <td>0</td>\n",
       "      <td>0</td>\n",
       "      <td>[]</td>\n",
       "    </tr>\n",
       "    <tr>\n",
       "      <th>8</th>\n",
       "      <td>티머니GO 이어 카카오T에서도 '씽씽' 대여…연내 연동 완료</td>\n",
       "      <td>2021.04.29. 오후 2:07</td>\n",
       "      <td></td>\n",
       "      <td>1</td>\n",
       "      <td>1</td>\n",
       "      <td>1</td>\n",
       "      <td>1</td>\n",
       "      <td>0</td>\n",
       "      <td>0</td>\n",
       "      <td>[]</td>\n",
       "    </tr>\n",
       "    <tr>\n",
       "      <th>9</th>\n",
       "      <td>씽씽, 연내 카카오 T 통해 공유킥보드 대여 서비스 출시</td>\n",
       "      <td>2021.04.29. 오후 1:15</td>\n",
       "      <td></td>\n",
       "      <td>3</td>\n",
       "      <td>1</td>\n",
       "      <td>0</td>\n",
       "      <td>1</td>\n",
       "      <td>0</td>\n",
       "      <td>0</td>\n",
       "      <td>[]</td>\n",
       "    </tr>\n",
       "  </tbody>\n",
       "</table>\n",
       "</div>"
      ],
      "text/plain": [
       "                                     기사명                    날짜 추천수 좋아요 훈훈해요  \\\n",
       "0         카카오내비, 세차·충전 이어 ‘방문 정비’ 서비스 개시  2021.04.30. 오전 10:22       1    0   \n",
       "1             카카오뱅크 26주적금, 열흘 만에 20만좌 돌파   2021.04.30. 오전 8:47       0    0   \n",
       "2  [게시판] 카카오뱅크 '26주적금' 개편 10일 만에 20만좌 돌파   2021.04.30. 오전 9:09       0    0   \n",
       "3        카카오뱅크 26주 적금, 출시 10일 만에 20만좌 돌파   2021.04.30. 오전 9:10       0    0   \n",
       "4          카카오뱅크 '26주 적금', 10일만에 20만좌 돌파   2021.04.30. 오전 8:12       1    0   \n",
       "5                   카카오내비, '방문정비' 서비스 오픈  2021.04.30. 오전 10:10       0    0   \n",
       "6        카카오내비, ‘방문정비’ 서비스 오픈…차량관리 본격 운영   2021.04.30. 오전 9:53   1   1    0   \n",
       "8      티머니GO 이어 카카오T에서도 '씽씽' 대여…연내 연동 완료   2021.04.29. 오후 2:07       1    1   \n",
       "9        씽씽, 연내 카카오 T 통해 공유킥보드 대여 서비스 출시   2021.04.29. 오후 1:15       3    1   \n",
       "\n",
       "  슬퍼요 화나요 후속기사 원해요  댓글 수  댓글  \n",
       "0   0   0        0     0  []  \n",
       "1   0   0        0     0  []  \n",
       "2   0   0        0     0  []  \n",
       "3   0   0        0     0  []  \n",
       "4   0   0        0     0  []  \n",
       "5   0   0        0     0  []  \n",
       "6   0   0        0     0  []  \n",
       "8   1   1        0     0  []  \n",
       "9   0   1        0     0  []  "
      ]
     },
     "execution_count": 21,
     "metadata": {},
     "output_type": "execute_result"
    }
   ],
   "source": [
    "import pandas as pd\n",
    "result_df = pd.DataFrame.from_dict(dict, 'index')\n",
    "result_df"
   ]
  },
  {
   "cell_type": "code",
   "execution_count": null,
   "metadata": {},
   "outputs": [],
   "source": []
  }
 ],
 "metadata": {
  "kernelspec": {
   "display_name": "Python 3",
   "language": "python",
   "name": "python3"
  },
  "language_info": {
   "codemirror_mode": {
    "name": "ipython",
    "version": 3
   },
   "file_extension": ".py",
   "mimetype": "text/x-python",
   "name": "python",
   "nbconvert_exporter": "python",
   "pygments_lexer": "ipython3",
   "version": "3.8.5"
  }
 },
 "nbformat": 4,
 "nbformat_minor": 4
}
